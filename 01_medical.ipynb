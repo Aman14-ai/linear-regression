{
 "cells": [
  {
   "cell_type": "code",
   "execution_count": null,
   "id": "c0b36c02",
   "metadata": {},
   "outputs": [],
   "source": [
    "import pandas as pd;"
   ]
  },
  {
   "cell_type": "code",
   "execution_count": null,
   "id": "bcedb1d4",
   "metadata": {},
   "outputs": [],
   "source": [
    "# from urllib.request import urlretrieve\n",
    "# medical_charges_url = 'https://raw.githubusercontent.com/JovianML/opendatasets/master/data/medical-charges.csv'\n",
    "# urlretrieve(medical_charges_url, 'medical.csv')\n",
    "# print('Radha');"
   ]
  },
  {
   "cell_type": "code",
   "execution_count": null,
   "id": "42e3f4bd",
   "metadata": {},
   "outputs": [],
   "source": [
    "medical_df = pd.read_csv('medical.csv')\n",
    "medical_df"
   ]
  },
  {
   "cell_type": "code",
   "execution_count": null,
   "id": "d888886e",
   "metadata": {},
   "outputs": [],
   "source": [
    "medical_df.isnull().sum()"
   ]
  },
  {
   "cell_type": "code",
   "execution_count": null,
   "id": "4491e741",
   "metadata": {},
   "outputs": [],
   "source": [
    "medical_df.describe()"
   ]
  },
  {
   "cell_type": "code",
   "execution_count": null,
   "id": "5a5090d3",
   "metadata": {},
   "outputs": [],
   "source": [
    "import plotly.express as px;\n",
    "import matplotlib\n",
    "import matplotlib.pyplot as plt;\n",
    "import seaborn as sns;"
   ]
  },
  {
   "cell_type": "code",
   "execution_count": null,
   "id": "1de67793",
   "metadata": {},
   "outputs": [],
   "source": [
    "sns.set_style(\"darkgrid\")\n",
    "matplotlib.rcParams['font.size'] = 14\n",
    "matplotlib.rcParams['figure.figsize'] = (10, 6)\n",
    "matplotlib.rcParams['figure.facecolor'] = '#00000000'"
   ]
  },
  {
   "cell_type": "code",
   "execution_count": null,
   "id": "defb2e0d",
   "metadata": {},
   "outputs": [],
   "source": [
    "medical_df['age'].describe()"
   ]
  },
  {
   "cell_type": "markdown",
   "id": "50cbf1fc",
   "metadata": {},
   "source": [
    "**age analysis**"
   ]
  },
  {
   "cell_type": "code",
   "execution_count": null,
   "id": "7082d6b7",
   "metadata": {},
   "outputs": [],
   "source": [
    "fig = px.histogram(medical_df , x = 'age', marginal='box' , nbins = 47, title='Age Distribution')\n",
    "fig.update_layout(bargap=0.1);\n",
    "fig.show()"
   ]
  },
  {
   "cell_type": "markdown",
   "id": "5490c20d",
   "metadata": {},
   "source": [
    "**bmi**"
   ]
  },
  {
   "cell_type": "markdown",
   "id": "958adad1",
   "metadata": {},
   "source": [
    "looking like normal or gaussian distrubution data is centered around mean and decreasing away from mean"
   ]
  },
  {
   "cell_type": "code",
   "execution_count": null,
   "id": "16aa7661",
   "metadata": {},
   "outputs": [],
   "source": [
    "fig = px.histogram(medical_df , x='bmi', marginal='box', color_discrete_sequence=['red'], title='bmi distribution')\n",
    "fig.update_layout(bargap=0.1);\n",
    "fig.show()"
   ]
  },
  {
   "cell_type": "code",
   "execution_count": null,
   "id": "cfbe8cd1",
   "metadata": {},
   "outputs": [],
   "source": [
    "fig = px.histogram(medical_df , x='charges' ,color='smoker', marginal='box', title='annual charges distribution', color_discrete_sequence=['red' , 'black']);\n",
    "fig.update_layout(bargap=0.1);\n",
    "fig.show()"
   ]
  },
  {
   "cell_type": "code",
   "execution_count": null,
   "id": "c70a064f",
   "metadata": {},
   "outputs": [],
   "source": [
    "fig = px.histogram(medical_df , x='charges' ,color='sex', marginal='box', title='annual charges distribution', color_discrete_sequence=['red' , 'black']);\n",
    "fig.update_layout(bargap=0.1);\n",
    "fig.show()"
   ]
  },
  {
   "cell_type": "code",
   "execution_count": null,
   "id": "c5a2c4c7",
   "metadata": {},
   "outputs": [],
   "source": [
    "medical_df['region'].value_counts()"
   ]
  },
  {
   "cell_type": "code",
   "execution_count": null,
   "id": "f3acc431",
   "metadata": {},
   "outputs": [],
   "source": [
    "fig = px.histogram(medical_df , x='charges' ,color='region', marginal='box', title='annual charges distribution', color_discrete_sequence=['red' , 'black', 'blue' , 'green']);\n",
    "fig.update_layout(bargap=0.1);\n",
    "fig.show()"
   ]
  },
  {
   "cell_type": "code",
   "execution_count": null,
   "id": "c72e023d",
   "metadata": {},
   "outputs": [],
   "source": [
    "fig = px.histogram(medical_df , x='region' , marginal='box', title='region distribution', color_discrete_sequence=['violet']);\n",
    "fig.update_layout(bargap=0.1);\n",
    "fig.show()"
   ]
  },
  {
   "cell_type": "code",
   "execution_count": null,
   "id": "9f61f40a",
   "metadata": {},
   "outputs": [],
   "source": [
    "medical_df['smoker'].value_counts()"
   ]
  },
  {
   "cell_type": "code",
   "execution_count": null,
   "id": "fa43d415",
   "metadata": {},
   "outputs": [],
   "source": [
    "fig = px.histogram(medical_df , x='smoker', color='sex', title='smoker')\n",
    "fig.update_layout(bargap=0.1);\n",
    "fig.show()"
   ]
  },
  {
   "cell_type": "code",
   "execution_count": null,
   "id": "17e09a73",
   "metadata": {},
   "outputs": [],
   "source": [
    "medical_df"
   ]
  },
  {
   "cell_type": "code",
   "execution_count": null,
   "id": "53e326b2",
   "metadata": {},
   "outputs": [],
   "source": [
    "fig = px.histogram(medical_df ,marginal='box', x='charges', color='children')\n",
    "fig.update_layout(bargap=0.1);\n",
    "fig.show()"
   ]
  },
  {
   "cell_type": "markdown",
   "id": "c0ce93f3",
   "metadata": {},
   "source": [
    "**age and charges**"
   ]
  },
  {
   "cell_type": "code",
   "execution_count": null,
   "id": "109c9332",
   "metadata": {},
   "outputs": [],
   "source": [
    "fig = px.scatter(medical_df , x='age', y='charges', color='smoker',opacity=0.8,hover_data=['sex'], title='age vs charges')\n",
    "fig.update_traces(marker_size=5)\n",
    "fig.show()"
   ]
  },
  {
   "cell_type": "markdown",
   "id": "b39fd5b8",
   "metadata": {},
   "source": [
    "**bmi and charges**"
   ]
  },
  {
   "cell_type": "code",
   "execution_count": null,
   "id": "8d84a8f8",
   "metadata": {},
   "outputs": [],
   "source": [
    "fig = px.scatter(medical_df , x='bmi', y='charges', color='smoker', color_discrete_sequence=['red' , 'black'] ,opacity=0.8,hover_data=['sex'], title='bmi vs charges')\n",
    "fig.update_traces(marker_size=5)\n",
    "fig.show()"
   ]
  },
  {
   "cell_type": "code",
   "execution_count": null,
   "id": "675ac59b",
   "metadata": {},
   "outputs": [],
   "source": [
    "px.violin(medical_df , x='children', y='charges')\n"
   ]
  },
  {
   "cell_type": "markdown",
   "id": "a954c50b",
   "metadata": {},
   "source": [
    "### **correlation coefficient**"
   ]
  },
  {
   "cell_type": "code",
   "execution_count": null,
   "id": "b0acb19e",
   "metadata": {},
   "outputs": [],
   "source": [
    "print(medical_df.charges.corr(medical_df.age))\n",
    "print(medical_df['charges'].corr(medical_df['age']))\n",
    "print(medical_df['age'].corr(medical_df['charges']))"
   ]
  },
  {
   "cell_type": "code",
   "execution_count": null,
   "id": "bc7e0b5d",
   "metadata": {},
   "outputs": [],
   "source": [
    "print(medical_df['charges'].corr(medical_df['bmi']))\n",
    "print(medical_df['charges'].corr(medical_df['children']))"
   ]
  },
  {
   "cell_type": "code",
   "execution_count": null,
   "id": "d675391e",
   "metadata": {},
   "outputs": [],
   "source": [
    "smoker_values = {'yes': 1, 'no': 0}\n",
    "smoker_numeric = medical_df.smoker.map(smoker_values)\n",
    "medical_df['smoker_numeric'] = smoker_numeric\n",
    "medical_df"
   ]
  },
  {
   "cell_type": "code",
   "execution_count": null,
   "id": "935ac307",
   "metadata": {},
   "outputs": [],
   "source": [
    "print(medical_df.charges.corr(medical_df.smoker_numeric))"
   ]
  },
  {
   "cell_type": "code",
   "execution_count": null,
   "id": "bfcc061f",
   "metadata": {},
   "outputs": [],
   "source": [
    "medical_df.select_dtypes(include=['int64', 'float64']).corr()"
   ]
  },
  {
   "cell_type": "code",
   "execution_count": 138,
   "id": "7a078550",
   "metadata": {},
   "outputs": [
    {
     "data": {
      "text/plain": [
       "Text(0.5, 1.0, 'Correlation Heatmap')"
      ]
     },
     "execution_count": 138,
     "metadata": {},
     "output_type": "execute_result"
    },
    {
     "data": {
      "image/png": "[encoded data removed]",
      "text/plain": [
       "<Figure size 1000x600 with 2 Axes>"
      ]
     },
     "metadata": {
      "needs_background": "light"
     },
     "output_type": "display_data"
    }
   ],
   "source": [
    "sns.heatmap(medical_df.select_dtypes(include=['int64', 'float64']).corr() , cmap='Reds' , annot=True)\n",
    "plt.savefig(fname='heatmap.png')\n",
    "plt.title('Correlation Heatmap')"
   ]
  },
  {
   "cell_type": "code",
   "execution_count": null,
   "id": "61e65327",
   "metadata": {},
   "outputs": [],
   "source": []
  }
 ],
 "metadata": {
  "kernelspec": {
   "display_name": "venv",
   "language": "python",
   "name": "python3"
  },
  "language_info": {
   "codemirror_mode": {
    "name": "ipython",
    "version": 3
   },
   "file_extension": ".py",
   "mimetype": "text/x-python",
   "name": "python",
   "nbconvert_exporter": "python",
   "pygments_lexer": "ipython3",
   "version": "3.11.0"
  }
 },
 "nbformat": 4,
 "nbformat_minor": 5
}
