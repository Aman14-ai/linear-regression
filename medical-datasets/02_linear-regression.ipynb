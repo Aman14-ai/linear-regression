{
 "cells": [
  {
   "cell_type": "code",
   "execution_count": null,
   "id": "8331fc28",
   "metadata": {},
   "outputs": [],
   "source": [
    "print(\"Radha aman\")\n",
    "from sklearn.linear_model import LinearRegression\n",
    "import pandas as pd\n",
    "import numpy as np;\n",
    "import matplotlib.pyplot as plt"
   ]
  },
  {
   "cell_type": "code",
   "execution_count": null,
   "id": "3eae5613",
   "metadata": {},
   "outputs": [],
   "source": [
    "medical_df = pd.read_csv('medical.csv')\n",
    "smoker_values = {'yes': 1, 'no': 0}\n",
    "smoker_numeric = medical_df['smoker'].map(smoker_values)\n",
    "medical_df['smoker_numeric'] = smoker_numeric\n",
    "non_smoker_df = medical_df[medical_df['smoker'] == 'no']"
   ]
  },
  {
   "cell_type": "code",
   "execution_count": null,
   "id": "54f6222e",
   "metadata": {},
   "outputs": [],
   "source": [
    "model = LinearRegression() # uses ols method\n",
    "inputs = non_smoker_df[['age']]\n",
    "targets = non_smoker_df['charges']\n"
   ]
  },
  {
   "cell_type": "markdown",
   "id": "185387f6",
   "metadata": {},
   "source": [
    "**fit the model**"
   ]
  },
  {
   "cell_type": "code",
   "execution_count": null,
   "id": "7cb461b9",
   "metadata": {},
   "outputs": [],
   "source": [
    "model.fit(inputs,targets)"
   ]
  },
  {
   "cell_type": "code",
   "execution_count": null,
   "id": "87098649",
   "metadata": {},
   "outputs": [],
   "source": [
    "model.predict(np.array([[23], [37], [61]]))"
   ]
  },
  {
   "cell_type": "code",
   "execution_count": null,
   "id": "95def9ba",
   "metadata": {},
   "outputs": [],
   "source": [
    "predictions = model.predict(inputs)\n",
    "predictions"
   ]
  },
  {
   "cell_type": "code",
   "execution_count": null,
   "id": "e0193341",
   "metadata": {},
   "outputs": [],
   "source": [
    "non_smoker_df.charges"
   ]
  },
  {
   "cell_type": "code",
   "execution_count": null,
   "id": "84a55b8c",
   "metadata": {},
   "outputs": [],
   "source": [
    "def rmse(target, prediction):\n",
    "    return np.sqrt(np.mean(np.square(target-prediction)));\n",
    "rmse(non_smoker_df.charges , predictions)"
   ]
  },
  {
   "cell_type": "code",
   "execution_count": null,
   "id": "f31b746f",
   "metadata": {},
   "outputs": [],
   "source": [
    "def estimate_charges(age , w , b):\n",
    "    return w * age + b;"
   ]
  },
  {
   "cell_type": "code",
   "execution_count": null,
   "id": "d47a4e45",
   "metadata": {},
   "outputs": [],
   "source": [
    "def try_parameters(w,b):\n",
    "    target = non_smoker_df.charges\n",
    "    ages = non_smoker_df.age\n",
    "    estimated_charges = estimate_charges(ages,w,b)\n",
    "    plt.plot(ages,estimated_charges, 'r-', alpha=0.9)\n",
    "    plt.scatter(ages,target,alpha=0.8)\n",
    "    plt.xlabel('Age of person')\n",
    "    plt.ylabel('Charges')\n",
    "    plt.legend(['Estimated Charges', 'Actual Charges'])\n",
    "    plt.show()\n",
    "    return estimated_charges"
   ]
  },
  {
   "cell_type": "code",
   "execution_count": null,
   "id": "96ee5685",
   "metadata": {},
   "outputs": [],
   "source": [
    "#w\n",
    "print(model.coef_)\n",
    "#b\n",
    "print(model.intercept_)\n",
    "try_parameters(model.coef_[0],model.intercept_)"
   ]
  },
  {
   "cell_type": "code",
   "execution_count": null,
   "id": "ace70e0f",
   "metadata": {},
   "outputs": [],
   "source": [
    "from sklearn.linear_model import SGDRegressor\n",
    "sgd_model = SGDRegressor()\n",
    "sgd_model.fit(inputs,targets)\n",
    "sgd_model.predict(inputs)"
   ]
  },
  {
   "cell_type": "code",
   "execution_count": null,
   "id": "521c36f6",
   "metadata": {},
   "outputs": [],
   "source": [
    "print(sgd_model.coef_)\n",
    "print(sgd_model.intercept_)\n",
    "print(rmse(non_smoker_df.charges , predictions)) # in this case ols method is good\n",
    "rmse(non_smoker_df.charges , sgd_model.predict(inputs))"
   ]
  },
  {
   "cell_type": "code",
   "execution_count": null,
   "id": "aa825eca",
   "metadata": {},
   "outputs": [],
   "source": []
  }
 ],
 "metadata": {
  "kernelspec": {
   "display_name": "venv",
   "language": "python",
   "name": "python3"
  },
  "language_info": {
   "codemirror_mode": {
    "name": "ipython",
    "version": 3
   },
   "file_extension": ".py",
   "mimetype": "text/x-python",
   "name": "python",
   "nbconvert_exporter": "python",
   "pygments_lexer": "ipython3",
   "version": "3.11.0"
  }
 },
 "nbformat": 4,
 "nbformat_minor": 5
}
